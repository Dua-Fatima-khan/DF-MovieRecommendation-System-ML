{
 "cells": [
  {
   "cell_type": "markdown",
   "id": "8a68533c-29bf-48d7-907a-75d72f409fe7",
   "metadata": {},
   "source": [
    "# Importing Essential Libraries"
   ]
  },
  {
   "cell_type": "code",
   "execution_count": 54,
   "id": "185ab4d0-adcd-459e-88f5-e47c830604ba",
   "metadata": {},
   "outputs": [],
   "source": [
    "import numpy as np\n",
    "import pandas as pd\n",
    "from sklearn.metrics.pairwise import cosine_similarity\n",
    "from sklearn.preprocessing import LabelEncoder\n",
    "from collections import defaultdict\n"
   ]
  },
  {
   "cell_type": "markdown",
   "id": "df9dab0d-209e-4ad5-90e6-041c4328d2e0",
   "metadata": {},
   "source": [
    "# Step1:Loading Dataset"
   ]
  },
  {
   "cell_type": "code",
   "execution_count": 56,
   "id": "850b88e9-1254-459e-af4b-4d3c4da1579a",
   "metadata": {},
   "outputs": [],
   "source": [
    "movie_system = pd.read_csv(\"Movies Recommendation.csv\")"
   ]
  },
  {
   "cell_type": "code",
   "execution_count": 57,
   "id": "3df499be-9457-4eb4-9584-938c70661c04",
   "metadata": {
    "scrolled": true
   },
   "outputs": [
    {
     "data": {
      "text/html": [
       "<div>\n",
       "<style scoped>\n",
       "    .dataframe tbody tr th:only-of-type {\n",
       "        vertical-align: middle;\n",
       "    }\n",
       "\n",
       "    .dataframe tbody tr th {\n",
       "        vertical-align: top;\n",
       "    }\n",
       "\n",
       "    .dataframe thead th {\n",
       "        text-align: right;\n",
       "    }\n",
       "</style>\n",
       "<table border=\"1\" class=\"dataframe\">\n",
       "  <thead>\n",
       "    <tr style=\"text-align: right;\">\n",
       "      <th></th>\n",
       "      <th>Movie_ID</th>\n",
       "      <th>Movie_Title</th>\n",
       "      <th>Movie_Genre</th>\n",
       "      <th>Movie_Language</th>\n",
       "      <th>Movie_Budget</th>\n",
       "      <th>Movie_Popularity</th>\n",
       "      <th>Movie_Release_Date</th>\n",
       "      <th>Movie_Revenue</th>\n",
       "      <th>Movie_Runtime</th>\n",
       "      <th>Movie_Vote</th>\n",
       "      <th>...</th>\n",
       "      <th>Movie_Homepage</th>\n",
       "      <th>Movie_Keywords</th>\n",
       "      <th>Movie_Overview</th>\n",
       "      <th>Movie_Production_House</th>\n",
       "      <th>Movie_Production_Country</th>\n",
       "      <th>Movie_Spoken_Language</th>\n",
       "      <th>Movie_Tagline</th>\n",
       "      <th>Movie_Cast</th>\n",
       "      <th>Movie_Crew</th>\n",
       "      <th>Movie_Director</th>\n",
       "    </tr>\n",
       "  </thead>\n",
       "  <tbody>\n",
       "    <tr>\n",
       "      <th>0</th>\n",
       "      <td>1</td>\n",
       "      <td>Four Rooms</td>\n",
       "      <td>Crime Comedy</td>\n",
       "      <td>en</td>\n",
       "      <td>4000000</td>\n",
       "      <td>22.876230</td>\n",
       "      <td>09-12-1995</td>\n",
       "      <td>4300000</td>\n",
       "      <td>98.0</td>\n",
       "      <td>6.5</td>\n",
       "      <td>...</td>\n",
       "      <td>NaN</td>\n",
       "      <td>hotel new year's eve witch bet hotel room</td>\n",
       "      <td>It's Ted the Bellhop's first night on the job....</td>\n",
       "      <td>[{\"name\": \"Miramax Films\", \"id\": 14}, {\"name\":...</td>\n",
       "      <td>[{\"iso_3166_1\": \"US\", \"name\": \"United States o...</td>\n",
       "      <td>[{\"iso_639_1\": \"en\", \"name\": \"English\"}]</td>\n",
       "      <td>Twelve outrageous guests. Four scandalous requ...</td>\n",
       "      <td>Tim Roth Antonio Banderas Jennifer Beals Madon...</td>\n",
       "      <td>[{'name': 'Allison Anders', 'gender': 1, 'depa...</td>\n",
       "      <td>Allison Anders</td>\n",
       "    </tr>\n",
       "    <tr>\n",
       "      <th>1</th>\n",
       "      <td>2</td>\n",
       "      <td>Star Wars</td>\n",
       "      <td>Adventure Action Science Fiction</td>\n",
       "      <td>en</td>\n",
       "      <td>11000000</td>\n",
       "      <td>126.393695</td>\n",
       "      <td>25-05-1977</td>\n",
       "      <td>775398007</td>\n",
       "      <td>121.0</td>\n",
       "      <td>8.1</td>\n",
       "      <td>...</td>\n",
       "      <td>http://www.starwars.com/films/star-wars-episod...</td>\n",
       "      <td>android galaxy hermit death star lightsaber</td>\n",
       "      <td>Princess Leia is captured and held hostage by ...</td>\n",
       "      <td>[{\"name\": \"Lucasfilm\", \"id\": 1}, {\"name\": \"Twe...</td>\n",
       "      <td>[{\"iso_3166_1\": \"US\", \"name\": \"United States o...</td>\n",
       "      <td>[{\"iso_639_1\": \"en\", \"name\": \"English\"}]</td>\n",
       "      <td>A long time ago in a galaxy far, far away...</td>\n",
       "      <td>Mark Hamill Harrison Ford Carrie Fisher Peter ...</td>\n",
       "      <td>[{'name': 'George Lucas', 'gender': 2, 'depart...</td>\n",
       "      <td>George Lucas</td>\n",
       "    </tr>\n",
       "    <tr>\n",
       "      <th>2</th>\n",
       "      <td>3</td>\n",
       "      <td>Finding Nemo</td>\n",
       "      <td>Animation Family</td>\n",
       "      <td>en</td>\n",
       "      <td>94000000</td>\n",
       "      <td>85.688789</td>\n",
       "      <td>30-05-2003</td>\n",
       "      <td>940335536</td>\n",
       "      <td>100.0</td>\n",
       "      <td>7.6</td>\n",
       "      <td>...</td>\n",
       "      <td>http://movies.disney.com/finding-nemo</td>\n",
       "      <td>father son relationship harbor underwater fish...</td>\n",
       "      <td>Nemo, an adventurous young clownfish, is unexp...</td>\n",
       "      <td>[{\"name\": \"Pixar Animation Studios\", \"id\": 3}]</td>\n",
       "      <td>[{\"iso_3166_1\": \"US\", \"name\": \"United States o...</td>\n",
       "      <td>[{\"iso_639_1\": \"en\", \"name\": \"English\"}]</td>\n",
       "      <td>There are 3.7 trillion fish in the ocean, they...</td>\n",
       "      <td>Albert Brooks Ellen DeGeneres Alexander Gould ...</td>\n",
       "      <td>[{'name': 'Andrew Stanton', 'gender': 2, 'depa...</td>\n",
       "      <td>Andrew Stanton</td>\n",
       "    </tr>\n",
       "    <tr>\n",
       "      <th>3</th>\n",
       "      <td>4</td>\n",
       "      <td>Forrest Gump</td>\n",
       "      <td>Comedy Drama Romance</td>\n",
       "      <td>en</td>\n",
       "      <td>55000000</td>\n",
       "      <td>138.133331</td>\n",
       "      <td>06-07-1994</td>\n",
       "      <td>677945399</td>\n",
       "      <td>142.0</td>\n",
       "      <td>8.2</td>\n",
       "      <td>...</td>\n",
       "      <td>NaN</td>\n",
       "      <td>vietnam veteran hippie mentally disabled runni...</td>\n",
       "      <td>A man with a low IQ has accomplished great thi...</td>\n",
       "      <td>[{\"name\": \"Paramount Pictures\", \"id\": 4}]</td>\n",
       "      <td>[{\"iso_3166_1\": \"US\", \"name\": \"United States o...</td>\n",
       "      <td>[{\"iso_639_1\": \"en\", \"name\": \"English\"}]</td>\n",
       "      <td>The world will never be the same, once you've ...</td>\n",
       "      <td>Tom Hanks Robin Wright Gary Sinise Mykelti Wil...</td>\n",
       "      <td>[{'name': 'Alan Silvestri', 'gender': 2, 'depa...</td>\n",
       "      <td>Robert Zemeckis</td>\n",
       "    </tr>\n",
       "  </tbody>\n",
       "</table>\n",
       "<p>4 rows × 21 columns</p>\n",
       "</div>"
      ],
      "text/plain": [
       "   Movie_ID   Movie_Title                       Movie_Genre Movie_Language  \\\n",
       "0         1    Four Rooms                      Crime Comedy             en   \n",
       "1         2     Star Wars  Adventure Action Science Fiction             en   \n",
       "2         3  Finding Nemo                  Animation Family             en   \n",
       "3         4  Forrest Gump              Comedy Drama Romance             en   \n",
       "\n",
       "   Movie_Budget  Movie_Popularity Movie_Release_Date  Movie_Revenue  \\\n",
       "0       4000000         22.876230         09-12-1995        4300000   \n",
       "1      11000000        126.393695         25-05-1977      775398007   \n",
       "2      94000000         85.688789         30-05-2003      940335536   \n",
       "3      55000000        138.133331         06-07-1994      677945399   \n",
       "\n",
       "   Movie_Runtime  Movie_Vote  ...  \\\n",
       "0           98.0         6.5  ...   \n",
       "1          121.0         8.1  ...   \n",
       "2          100.0         7.6  ...   \n",
       "3          142.0         8.2  ...   \n",
       "\n",
       "                                      Movie_Homepage  \\\n",
       "0                                                NaN   \n",
       "1  http://www.starwars.com/films/star-wars-episod...   \n",
       "2              http://movies.disney.com/finding-nemo   \n",
       "3                                                NaN   \n",
       "\n",
       "                                      Movie_Keywords  \\\n",
       "0          hotel new year's eve witch bet hotel room   \n",
       "1        android galaxy hermit death star lightsaber   \n",
       "2  father son relationship harbor underwater fish...   \n",
       "3  vietnam veteran hippie mentally disabled runni...   \n",
       "\n",
       "                                      Movie_Overview  \\\n",
       "0  It's Ted the Bellhop's first night on the job....   \n",
       "1  Princess Leia is captured and held hostage by ...   \n",
       "2  Nemo, an adventurous young clownfish, is unexp...   \n",
       "3  A man with a low IQ has accomplished great thi...   \n",
       "\n",
       "                              Movie_Production_House  \\\n",
       "0  [{\"name\": \"Miramax Films\", \"id\": 14}, {\"name\":...   \n",
       "1  [{\"name\": \"Lucasfilm\", \"id\": 1}, {\"name\": \"Twe...   \n",
       "2     [{\"name\": \"Pixar Animation Studios\", \"id\": 3}]   \n",
       "3          [{\"name\": \"Paramount Pictures\", \"id\": 4}]   \n",
       "\n",
       "                            Movie_Production_Country  \\\n",
       "0  [{\"iso_3166_1\": \"US\", \"name\": \"United States o...   \n",
       "1  [{\"iso_3166_1\": \"US\", \"name\": \"United States o...   \n",
       "2  [{\"iso_3166_1\": \"US\", \"name\": \"United States o...   \n",
       "3  [{\"iso_3166_1\": \"US\", \"name\": \"United States o...   \n",
       "\n",
       "                      Movie_Spoken_Language  \\\n",
       "0  [{\"iso_639_1\": \"en\", \"name\": \"English\"}]   \n",
       "1  [{\"iso_639_1\": \"en\", \"name\": \"English\"}]   \n",
       "2  [{\"iso_639_1\": \"en\", \"name\": \"English\"}]   \n",
       "3  [{\"iso_639_1\": \"en\", \"name\": \"English\"}]   \n",
       "\n",
       "                                       Movie_Tagline  \\\n",
       "0  Twelve outrageous guests. Four scandalous requ...   \n",
       "1       A long time ago in a galaxy far, far away...   \n",
       "2  There are 3.7 trillion fish in the ocean, they...   \n",
       "3  The world will never be the same, once you've ...   \n",
       "\n",
       "                                          Movie_Cast  \\\n",
       "0  Tim Roth Antonio Banderas Jennifer Beals Madon...   \n",
       "1  Mark Hamill Harrison Ford Carrie Fisher Peter ...   \n",
       "2  Albert Brooks Ellen DeGeneres Alexander Gould ...   \n",
       "3  Tom Hanks Robin Wright Gary Sinise Mykelti Wil...   \n",
       "\n",
       "                                          Movie_Crew   Movie_Director  \n",
       "0  [{'name': 'Allison Anders', 'gender': 1, 'depa...   Allison Anders  \n",
       "1  [{'name': 'George Lucas', 'gender': 2, 'depart...     George Lucas  \n",
       "2  [{'name': 'Andrew Stanton', 'gender': 2, 'depa...   Andrew Stanton  \n",
       "3  [{'name': 'Alan Silvestri', 'gender': 2, 'depa...  Robert Zemeckis  \n",
       "\n",
       "[4 rows x 21 columns]"
      ]
     },
     "execution_count": 57,
     "metadata": {},
     "output_type": "execute_result"
    }
   ],
   "source": [
    "movie_system.head(4)"
   ]
  },
  {
   "cell_type": "markdown",
   "id": "cc6527f2-bc6f-4f9f-97c1-8707ab034171",
   "metadata": {},
   "source": [
    "\n",
    "# Drop unnecessary columns\n"
   ]
  },
  {
   "cell_type": "code",
   "execution_count": 59,
   "id": "13ca3331-d69c-4bd9-aec3-14fd133968e7",
   "metadata": {},
   "outputs": [],
   "source": [
    "drop_columns = ['Movie_ID', 'Movie_Runtime', 'Movie_Keywords', 'Movie_Tagline',\n",
    "                'Movie_Spoken_Language', 'Movie_Homepage', 'Movie_Overview',\n",
    "                'Movie_Cast', 'Movie_Crew', 'Movie_Budget', 'Movie_Production_House',\n",
    "                'Movie_Production_Country']\n",
    "movie_system = movie_system.drop(columns=drop_columns)\n",
    "\n"
   ]
  },
  {
   "cell_type": "markdown",
   "id": "8b89b686-0736-43d0-94f5-9da287fd2a36",
   "metadata": {},
   "source": [
    "# Convert release date to year"
   ]
  },
  {
   "cell_type": "code",
   "execution_count": 61,
   "id": "d55e82d4-6c6a-4d84-ae28-1b0d8ee66829",
   "metadata": {},
   "outputs": [],
   "source": [
    "movie_system['Movie_Release_Date'] = pd.to_datetime(movie_system['Movie_Release_Date'],\n",
    "                                                    format='%d-%m-%Y', errors='coerce')\n",
    "movie_system['Released_Year'] = movie_system['Movie_Release_Date'].dt.year\n",
    "movie_system = movie_system.drop(columns=['Movie_Release_Date'])"
   ]
  },
  {
   "cell_type": "markdown",
   "id": "fd4471bf-e57f-4d20-b5da-6aad04dfa165",
   "metadata": {},
   "source": [
    "# Fill missing directors manually"
   ]
  },
  {
   "cell_type": "code",
   "execution_count": 63,
   "id": "5283ed88-f369-449a-acd6-b4b8a840a13a",
   "metadata": {},
   "outputs": [],
   "source": [
    "null_directors = movie_system[movie_system['Movie_Director'].isnull()]\n",
    "director_mapping = {\n",
    "    189: \"Roland Emmerich\", 245: \"Pete Docter\", 753: \"John Herzfeld\",\n",
    "    1262: \"Jon Amiel\", 2673: \"Brandon Camp\", 2717: \"Jugal Hansraj\",\n",
    "    2916: \"R. Balki\", 3266: \"Brian McDonald\", 3323: \"A. Raven Cruz\",\n",
    "    3325: \"John Wright\", 3420: \"Simon Phillips\", 3422: \"Finn Taylor\",\n",
    "    3552: \"Susan Seidelman\", 3981: \"Michael Paul Girard\",\n",
    "    3992: \"Martin Scorsese\", 4026: \"Sarah Jacobson\", 4091: \"Colin Trevorrow\",\n",
    "    4654: \"Jeff Leroy\", 4711: \"Wajahat Rauf\", 4719: \"Christopher Folkens\",\n",
    "    4739: \"Daniel Columbie\", 4758: \"Mike Mayhall\"\n",
    "}\n",
    "for idx, director in director_mapping.items():\n",
    "    movie_system.at[idx, 'Movie_Director'] = director\n",
    "\n"
   ]
  },
  {
   "cell_type": "markdown",
   "id": "e621254a-d2a9-47fd-a89a-9da97d4fe860",
   "metadata": {},
   "source": [
    "\n",
    "# Define known genres"
   ]
  },
  {
   "cell_type": "code",
   "execution_count": 65,
   "id": "6cb9b9e7-42c0-42e5-a077-c152969462b1",
   "metadata": {},
   "outputs": [],
   "source": [
    "known_genres = [\n",
    "    \"Action\", \"Adventure\", \"Science Fiction\", \"Thriller\", \"Animation\", \"Comedy\",\n",
    "    \"Family\", \"Crime\", \"Drama\", \"Mystery\", \"Romance\", \"Horror\", \"Documentary\",\n",
    "    \"Music\", \"Fantasy\", \"History\", \"War\", \"Western\", \"Foreign\"\n",
    "]\n"
   ]
  },
  {
   "cell_type": "markdown",
   "id": "b68827a4-27c3-4c1d-b3c1-6dd2f38e72ed",
   "metadata": {},
   "source": [
    "# Parse genres into list and assign genre IDs"
   ]
  },
  {
   "cell_type": "code",
   "execution_count": 67,
   "id": "39656610-d0b5-4a61-8914-909b94b4b4de",
   "metadata": {},
   "outputs": [],
   "source": [
    "def parse_genres(genre_string, known_genres):\n",
    "    return [genre for genre in known_genres if genre in genre_string]\n",
    "\n",
    "movie_system['Movie_Genre'] = movie_system['Movie_Genre'].apply(\n",
    "    lambda x: parse_genres(x, known_genres) if isinstance(x, str) else []\n",
    ")\n",
    "\n",
    "all_genres = set(genre for row in movie_system['Movie_Genre'] for genre in row)\n",
    "genre_to_id = {genre: idx for idx, genre in enumerate(sorted(all_genres))}\n",
    "id_to_genre = {v: k for k, v in genre_to_id.items()}\n",
    "movie_system['Movie_Genre'] = movie_system['Movie_Genre'].apply(\n",
    "    lambda x: [genre_to_id[genre] for genre in x]\n",
    ")"
   ]
  },
  {
   "cell_type": "markdown",
   "id": "f6d71146-3604-46dd-a959-fec906560193",
   "metadata": {},
   "source": [
    "# Encode categorical data"
   ]
  },
  {
   "cell_type": "code",
   "execution_count": 69,
   "id": "11b48cc3-2863-4d0b-acf7-554e97b6b475",
   "metadata": {},
   "outputs": [],
   "source": [
    "label_encoder_movie_name = LabelEncoder()\n",
    "label_encoder_movie_language = LabelEncoder()\n",
    "label_encoder_movie_director = LabelEncoder()\n",
    "\n",
    "movie_system['Movie_Title'] = label_encoder_movie_name.fit_transform(movie_system['Movie_Title'])\n",
    "movie_system['Movie_Language'] = label_encoder_movie_language.fit_transform(movie_system['Movie_Language'])\n",
    "movie_system['Movie_Director'] = label_encoder_movie_director.fit_transform(movie_system['Movie_Director'])\n"
   ]
  },
  {
   "cell_type": "markdown",
   "id": "a0f8e002-4d7c-4458-b9a1-f45d3dd57489",
   "metadata": {},
   "source": [
    "\n",
    "# Standardize numerical features"
   ]
  },
  {
   "cell_type": "code",
   "execution_count": 71,
   "id": "00b701e4-0b03-41b1-ad9b-1d9cce52ffd0",
   "metadata": {},
   "outputs": [],
   "source": [
    "movie_system['Movie_Popularity'] = (movie_system['Movie_Popularity'] - movie_system['Movie_Popularity'].mean()) / movie_system['Movie_Popularity'].std()\n",
    "movie_system['Movie_Revenue'] = (movie_system['Movie_Revenue'] - movie_system['Movie_Revenue'].mean()) / movie_system['Movie_Revenue'].std()\n",
    "movie_system['Movie_Vote'] = (movie_system['Movie_Vote'] - movie_system['Movie_Vote'].mean()) / movie_system['Movie_Vote'].std()\n",
    "movie_system['Movie_Vote_Count'] = (movie_system['Movie_Vote_Count'] - movie_system['Movie_Vote_Count'].mean()) / movie_system['Movie_Vote_Count'].std()\n"
   ]
  },
  {
   "cell_type": "markdown",
   "id": "c2a035d9-fd93-480c-820a-b6bbb5019a44",
   "metadata": {},
   "source": [
    "\n",
    "# Create decoded columns for display"
   ]
  },
  {
   "cell_type": "code",
   "execution_count": 73,
   "id": "0bb22af1-85ba-4312-87a5-92c73c5235c3",
   "metadata": {},
   "outputs": [],
   "source": [
    "movie_name_to_id = dict(zip(label_encoder_movie_name.transform(label_encoder_movie_name.classes_), label_encoder_movie_name.classes_))\n",
    "movie_language_to_id = dict(zip(label_encoder_movie_language.transform(label_encoder_movie_language.classes_), label_encoder_movie_language.classes_))\n",
    "movie_director_to_id = dict(zip(label_encoder_movie_director.transform(label_encoder_movie_director.classes_), label_encoder_movie_director.classes_))\n",
    "\n",
    "movie_system['Decoded_Movie_Title'] = movie_system['Movie_Title'].map(movie_name_to_id)\n",
    "movie_system['Decoded_Movie_Language'] = movie_system['Movie_Language'].map(movie_language_to_id)\n",
    "movie_system['Decoded_Movie_Director'] = movie_system['Movie_Director'].map(movie_director_to_id)\n"
   ]
  },
  {
   "cell_type": "markdown",
   "id": "622c2fb6-bee6-412c-9d00-2d85bf848fe6",
   "metadata": {},
   "source": [
    "# Cosine Similarity Function"
   ]
  },
  {
   "cell_type": "code",
   "execution_count": 75,
   "id": "ee951388-e45d-4396-bdd4-dbe7edf943a7",
   "metadata": {},
   "outputs": [],
   "source": [
    "def recommend_movies(selected_movie, filter_type, filter_value):\n",
    "    # Build genre matrix\n",
    "    all_genres = sorted(id_to_genre.keys())\n",
    "    genre_matrix = np.zeros((len(movie_system), len(all_genres)))\n",
    "    for idx, row in movie_system.iterrows():\n",
    "        for genre_id in row['Movie_Genre']:\n",
    "            if genre_id < len(all_genres):  # Prevent index out of range\n",
    "                genre_matrix[idx, genre_id] = 1\n",
    "\n",
    "    selected_index = selected_movie.name\n",
    "    selected_vector = genre_matrix[selected_index].reshape(1, -1)\n",
    "    similarities = cosine_similarity(selected_vector, genre_matrix).flatten()\n",
    "    movie_system['Similarity'] = similarities\n",
    "\n",
    "    # Apply filters\n",
    "    if filter_type == \"genre\":\n",
    "        filtered_movies = movie_system[movie_system['Movie_Genre'].apply(lambda x: any(g in x for g in selected_movie['Movie_Genre']))]\n",
    "    elif filter_type == \"language\":\n",
    "        filtered_movies = movie_system[movie_system['Movie_Language'] == filter_value]\n",
    "    elif filter_type == \"director\":\n",
    "        filtered_movies = movie_system[movie_system['Movie_Director'] == filter_value]\n",
    "    else:\n",
    "        print(\"Invalid filter type.\")\n",
    "        return\n",
    "\n",
    "    recommended_movies = filtered_movies.sort_values(by=['Similarity', 'Movie_Popularity'], ascending=[False, False])\n",
    "    display_recommendations(recommended_movies.head(20))\n"
   ]
  },
  {
   "cell_type": "markdown",
   "id": "c916fab1-6570-4012-8dd1-6de374b93f4e",
   "metadata": {},
   "source": [
    "# Display Function"
   ]
  },
  {
   "cell_type": "code",
   "execution_count": 77,
   "id": "774d1cc8-d118-4569-afcb-7e24e57422f4",
   "metadata": {},
   "outputs": [],
   "source": [
    "def display_recommendations(recommended_movies):\n",
    "    print(\"\\n🌟 Top Recommendations 🌟\")\n",
    "    print(\"{:<40} {:<15} {:<20} {:<30} {:<10}\".format(\"Title\", \"Language\", \"Director\", \"Genres\", \"Popularity\"))\n",
    "    print(\"-\" * 120)\n",
    "    for _, row in recommended_movies.iterrows():\n",
    "        decoded_genres = [id_to_genre.get(genre_id, \"Unknown\") for genre_id in row['Movie_Genre']]\n",
    "        print(\"{:<40} {:<15} {:<20} {:<30} {:.2f}\".format(\n",
    "            row['Decoded_Movie_Title'],\n",
    "            row['Decoded_Movie_Language'],\n",
    "            row['Decoded_Movie_Director'],\n",
    "            ', '.join(decoded_genres),\n",
    "            row['Movie_Popularity']\n",
    "        ))"
   ]
  },
  {
   "cell_type": "markdown",
   "id": "2b4a6d32-1480-4a86-8092-4f64c42ed5c8",
   "metadata": {},
   "source": [
    "# Input & Prediction Function"
   ]
  },
  {
   "cell_type": "code",
   "execution_count": 81,
   "id": "68380aa6-e5dc-41d5-9c52-7aa908973270",
   "metadata": {},
   "outputs": [
    {
     "name": "stdout",
     "output_type": "stream",
     "text": [
      "\n",
      "🎥 Dua Fatima Presenting Movie Recommendation System 🎥\n"
     ]
    },
    {
     "name": "stdin",
     "output_type": "stream",
     "text": [
      "Enter The Movie Name:  star wars\n",
      "Apply Filter (Genre, Language, Director):  enre\n"
     ]
    },
    {
     "name": "stdout",
     "output_type": "stream",
     "text": [
      "\n",
      "❌ Movie 'star wars' not found in the dataset.\n"
     ]
    },
    {
     "name": "stdin",
     "output_type": "stream",
     "text": [
      "\n",
      "🔁 Do you want to search for another movie? (yes/no):  no\n"
     ]
    },
    {
     "name": "stdout",
     "output_type": "stream",
     "text": [
      "\n",
      "👋 Thank you for using Dua Fatima's Movie Recommendation System!\n"
     ]
    }
   ],
   "source": [
    "def get_movie_recommendations():\n",
    "    print(\"\\n🎥 Dua Fatima Presenting Movie Recommendation System 🎥\")\n",
    "    movie_name = input(\"Enter The Movie Name: \").strip()\n",
    "    filter_type = input(\"Apply Filter (Genre, Language, Director): \").strip().lower()\n",
    "\n",
    "    if movie_name not in movie_system['Decoded_Movie_Title'].values:\n",
    "        print(f\"\\n❌ Movie '{movie_name}' not found in the dataset.\")\n",
    "        return\n",
    "\n",
    "    selected_movie = movie_system[movie_system['Decoded_Movie_Title'] == movie_name].iloc[0]\n",
    "\n",
    "    if filter_type == \"genre\":\n",
    "        selected_genres = [id_to_genre[g] for g in selected_movie['Movie_Genre']]\n",
    "        print(f\"\\n🎬 Selected Movie Genres: {', '.join(selected_genres)}\")\n",
    "        filter_value = selected_movie['Movie_Genre']\n",
    "    elif filter_type == \"language\":\n",
    "        filter_value = selected_movie['Movie_Language']\n",
    "    elif filter_type == \"director\":\n",
    "        filter_value = selected_movie['Movie_Director']\n",
    "    else:\n",
    "        print(\"\\n⚠️ Invalid filter type. Please choose from 'Genre', 'Language', or 'Director'.\")\n",
    "        return\n",
    "\n",
    "    print(f\"\\n🔍 Filter Applied: {filter_type.capitalize()} - {filter_value}\")\n",
    "    recommend_movies(selected_movie, filter_type, filter_value)\n",
    "\n",
    "# Run the system\n",
    "if __name__ == \"__main__\":\n",
    "    while True:\n",
    "        get_movie_recommendations()\n",
    "        again = input(\"\\n🔁 Do you want to search for another movie? (yes/no): \").strip().lower()\n",
    "        if again != \"yes\":\n",
    "            print(\"\\n👋 Thank you for using Dua Fatima's Movie Recommendation System!\")\n",
    "            break\n"
   ]
  },
  {
   "cell_type": "code",
   "execution_count": null,
   "id": "ef1416b9-dee2-4e8d-8f30-e7f37574f87f",
   "metadata": {},
   "outputs": [],
   "source": []
  }
 ],
 "metadata": {
  "kernelspec": {
   "display_name": "Python 3 (ipykernel)",
   "language": "python",
   "name": "python3"
  },
  "language_info": {
   "codemirror_mode": {
    "name": "ipython",
    "version": 3
   },
   "file_extension": ".py",
   "mimetype": "text/x-python",
   "name": "python",
   "nbconvert_exporter": "python",
   "pygments_lexer": "ipython3",
   "version": "3.12.7"
  }
 },
 "nbformat": 4,
 "nbformat_minor": 5
}
